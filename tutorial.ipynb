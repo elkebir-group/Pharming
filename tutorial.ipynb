{
 "cells": [
  {
   "cell_type": "code",
   "execution_count": 3,
   "metadata": {},
   "outputs": [],
   "source": [
    "from pharming.pharming import Pharming\n",
    "from pharming.make_data import load_from_files"
   ]
  },
  {
   "cell_type": "markdown",
   "metadata": {},
   "source": [
    "## Prepare the input data \n",
    "First, create a resuable Pharming data object using the `load_from_files` and read in the example DCFs."
   ]
  },
  {
   "cell_type": "code",
   "execution_count": 7,
   "metadata": {},
   "outputs": [
    {
     "name": "stderr",
     "output_type": "stream",
     "text": [
      "/Users/leah/Documents/Research/projects/test/Pharming/pharming/make_data.py:30: ParserWarning: Falling back to the 'python' engine because the 'c' engine does not support sep=None with delim_whitespace=False; you can avoid this warning by specifying engine='python'.\n",
      "  read_counts = pd.read_table(\n"
     ]
    },
    {
     "name": "stdout",
     "output_type": "stream",
     "text": [
      "   segment  mutation_label  cell_label  var  total\n",
      "0       19               0          46    0      1\n",
      "1       19               0         117    1      1\n",
      "2       19               0         151    1      1\n",
      "3       19               0         302    0      1\n",
      "4       19               0         627    1      1\n",
      "   segment  cell_label  x  y\n",
      "0        0           0  3  2\n",
      "1        1           0  1  1\n",
      "2        2           0  1  1\n",
      "3        3           0  1  1\n",
      "4        4           0  1  1\n",
      "Excluding 0 cells due to lack of read counts:\n",
      "Input data contains: 1000 cells, 5000 SNVs and 25 segments\n"
     ]
    }
   ],
   "source": [
    "dat = load_from_files(\"example/read_counts.tsv\", \n",
    "                      \"example/copy_numbers.csv\",\n",
    "                      alpha =0.001)\n",
    "print(dat)"
   ]
  },
  {
   "cell_type": "code",
   "execution_count": 16,
   "metadata": {},
   "outputs": [
    {
     "data": {
      "text/plain": [
       "{0: 0.103, 1: 0.994, 2: 0.159, 3: 0.141, 4: 0.224}"
      ]
     },
     "execution_count": 16,
     "metadata": {},
     "output_type": "execute_result"
    }
   ],
   "source": [
    "dcfs = {}\n",
    "with open(\"example/dcfs.txt\", \"r+\") as file:\n",
    "  for i, line in enumerate(file):\n",
    "    dcfs[i] = float(line.strip()) \n",
    "dcfs"
   ]
  },
  {
   "cell_type": "markdown",
   "metadata": {},
   "source": [
    "## Create a Pharming object"
   ]
  },
  {
   "cell_type": "code",
   "execution_count": 17,
   "metadata": {},
   "outputs": [
    {
     "name": "stdout",
     "output_type": "stream",
     "text": [
      "Start state: (1, 1)\n",
      "Max # of initial segments: None\n",
      "Max # of full inference mutation cluster trees None\n",
      "Top n: 5\n",
      "Collapse CNA internal nodes: True with cell threshold: 10\n",
      "Integration ordering: weighted-random\n",
      "CN states threshold proportion of cells per segment: 0\n",
      "Filtering mutation cluster trees using the sum condition: True\n"
     ]
    }
   ],
   "source": [
    "ph = Pharming(dcfs=dcfs, seed=11, top_n=5,\n",
    "  collapse=True,\n",
    "  cell_threshold=10,\n",
    "  sum_condition=True)"
   ]
  },
  {
   "cell_type": "markdown",
   "metadata": {},
   "source": [
    "## Fit the data and infer the `top_n` clonal trees\n"
   ]
  },
  {
   "cell_type": "code",
   "execution_count": 20,
   "metadata": {},
   "outputs": [
    {
     "name": "stdout",
     "output_type": "stream",
     "text": [
      "Init Segs:\n",
      "{1}\n",
      "Infer Segs:\n",
      "set()\n",
      "Place Segs:\n",
      "set()\n",
      "No Snvs Segs:\n",
      "set()\n",
      "\n",
      "Segment partition:\n",
      "initial segments: 1\n",
      "inference segments: 0\n",
      "place segments: 0\n",
      "\n",
      "Plowing the field.... \n",
      "DCFs delta: {0: 0.103, 1: 0.994, 2: 0.159, 3: 0.141, 4: 0.224}\n",
      "Starting mutation cluster trees iteration with 15 trees...\n",
      "Segment 1: starting preprocessing..\n",
      "Segment 1: preprocessing complete\n",
      "Planting the seeds.... \n",
      "Segment integration order:\n",
      "[1]\n",
      "Staring Tm 0: [(1, 0), (1, 2), (1, 3), (1, 4)]\n",
      "Starting segment 1...\n",
      " segment | cost | snv | cna\n",
      "|1 | 627.9110459090475 | 627.9110459090475 | 0 |\n",
      "Segment 1 complete!\n",
      "All specified segment tree inference complete!\n",
      "Starting integration...\n",
      "Starting integration for 1 segments...\n",
      "Tree list ordering:\n",
      "[0]\n",
      "0: {1}\n",
      "Execution time of integrate: 0.00022920800029169186 seconds\n",
      "Integration complete...\n",
      "Tm 0 complete!\n",
      "Staring Tm 1: [(1, 2), (1, 3), (1, 4), (2, 0)]\n",
      "Starting segment 1...\n",
      " segment | cost | snv | cna\n",
      "|1 | 627.9966518000411 | 627.9966518000411 | 0 |\n",
      "Segment 1 complete!\n",
      "All specified segment tree inference complete!\n",
      "Starting integration...\n",
      "Starting integration for 1 segments...\n",
      "Tree list ordering:\n",
      "[0]\n",
      "0: {1}\n",
      "Execution time of integrate: 0.00021120799965501647 seconds\n",
      "Integration complete...\n",
      "Tm 1 complete!\n",
      "Staring Tm 2: [(1, 0), (1, 3), (1, 4), (4, 2)]\n",
      "Starting segment 1...\n",
      " segment | cost | snv | cna\n",
      "|1 | 631.9622923707685 | 631.9622923707685 | 0 |\n",
      "Segment 1 complete!\n",
      "All specified segment tree inference complete!\n",
      "Starting integration...\n",
      "Starting integration for 1 segments...\n",
      "Tree list ordering:\n",
      "[0]\n",
      "0: {1}\n",
      "Execution time of integrate: 0.00030912500005797483 seconds\n",
      "Integration complete...\n",
      "Tm 2 complete!\n",
      "Staring Tm 3: [(1, 3), (1, 4), (2, 0), (4, 2)]\n",
      "Starting segment 1...\n",
      " segment | cost | snv | cna\n",
      "|1 | 635.5392149457037 | 635.5392149457037 | 0 |\n",
      "Segment 1 complete!\n",
      "All specified segment tree inference complete!\n",
      "Starting integration...\n",
      "Starting integration for 1 segments...\n",
      "Tree list ordering:\n",
      "[0]\n",
      "0: {1}\n",
      "Execution time of integrate: 0.00020737500017276034 seconds\n",
      "Integration complete...\n",
      "Tm 3 complete!\n",
      "Staring Tm 4: [(1, 2), (1, 3), (1, 4), (3, 0)]\n",
      "Starting segment 1...\n",
      " segment | cost | snv | cna\n",
      "|1 | 631.9622923707686 | 631.9622923707686 | 0 |\n",
      "Segment 1 complete!\n",
      "All specified segment tree inference complete!\n",
      "Starting integration...\n",
      "Starting integration for 1 segments...\n",
      "Tree list ordering:\n",
      "[0]\n",
      "0: {1}\n",
      "Execution time of integrate: 0.00020504200028881314 seconds\n",
      "Integration complete...\n",
      "Tm 4 complete!\n",
      "Staring Tm 5: [(1, 0), (1, 4), (2, 3), (4, 2)]\n",
      "Starting segment 1...\n",
      " segment | cost | snv | cna\n",
      "|1 | 636.7415212498938 | 636.7415212498938 | 0 |\n",
      "Segment 1 complete!\n",
      "All specified segment tree inference complete!\n",
      "Starting integration...\n",
      "Starting integration for 1 segments...\n",
      "Tree list ordering:\n",
      "[0]\n",
      "0: {1}\n",
      "Execution time of integrate: 0.00019816699978036922 seconds\n",
      "Integration complete...\n",
      "Tm 5 complete!\n",
      "Staring Tm 6: [(1, 3), (1, 4), (3, 0), (4, 2)]\n",
      "Starting segment 1...\n",
      " segment | cost | snv | cna\n",
      "|1 | 631.0547731930731 | 631.0547731930731 | 0 |\n",
      "Segment 1 complete!\n",
      "All specified segment tree inference complete!\n",
      "Starting integration...\n",
      "Starting integration for 1 segments...\n",
      "Tree list ordering:\n",
      "[0]\n",
      "0: {1}\n",
      "Execution time of integrate: 0.00021229100002528867 seconds\n",
      "Integration complete...\n",
      "Tm 6 complete!\n",
      "Staring Tm 7: [(1, 2), (1, 3), (1, 4), (4, 0)]\n",
      "Starting segment 1...\n",
      " segment | cost | snv | cna\n",
      "|1 | 630.4550992069642 | 630.4550992069642 | 0 |\n",
      "Segment 1 complete!\n",
      "All specified segment tree inference complete!\n",
      "Starting integration...\n",
      "Starting integration for 1 segments...\n",
      "Tree list ordering:\n",
      "[0]\n",
      "0: {1}\n",
      "Execution time of integrate: 0.00021637500003635068 seconds\n",
      "Integration complete...\n",
      "Tm 7 complete!\n",
      "Staring Tm 8: [(1, 0), (1, 2), (1, 4), (2, 3)]\n",
      "Starting segment 1...\n",
      " segment | cost | snv | cna\n",
      "|1 | 628.5431717236515 | 628.5431717236515 | 0 |\n",
      "Segment 1 complete!\n",
      "All specified segment tree inference complete!\n",
      "Starting integration...\n",
      "Starting integration for 1 segments...\n",
      "Tree list ordering:\n",
      "[0]\n",
      "0: {1}\n",
      "Execution time of integrate: 0.00020995800014134147 seconds\n",
      "Integration complete...\n",
      "Tm 8 complete!\n",
      "Staring Tm 9: [(1, 4), (2, 3), (3, 0), (4, 2)]\n",
      "Starting segment 1...\n",
      " segment | cost | snv | cna\n",
      "|1 | 652.4115492218003 | 652.4115492218003 | 0 |\n",
      "Segment 1 complete!\n",
      "All specified segment tree inference complete!\n",
      "Starting integration...\n",
      "Starting integration for 1 segments...\n",
      "Tree list ordering:\n",
      "[0]\n",
      "0: {1}\n",
      "Execution time of integrate: 0.00020666699992943904 seconds\n",
      "Integration complete...\n",
      "Tm 9 complete!\n",
      "Staring Tm 10: [(1, 0), (1, 2), (1, 4), (4, 3)]\n",
      "Starting segment 1...\n",
      " segment | cost | snv | cna\n",
      "|1 | 627.9110459090475 | 627.9110459090475 | 0 |\n",
      "Segment 1 complete!\n",
      "All specified segment tree inference complete!\n",
      "Starting integration...\n",
      "Starting integration for 1 segments...\n",
      "Tree list ordering:\n",
      "[0]\n",
      "0: {1}\n",
      "Execution time of integrate: 0.00021200000037424616 seconds\n",
      "Integration complete...\n",
      "Tm 10 complete!\n",
      "Staring Tm 11: [(1, 2), (1, 4), (2, 3), (3, 0)]\n",
      "Starting segment 1...\n",
      " segment | cost | snv | cna\n",
      "|1 | 630.6370875970052 | 630.6370875970052 | 0 |\n",
      "Segment 1 complete!\n",
      "All specified segment tree inference complete!\n",
      "Starting integration...\n",
      "Starting integration for 1 segments...\n",
      "Tree list ordering:\n",
      "[0]\n",
      "0: {1}\n",
      "Execution time of integrate: 0.00016558399966015713 seconds\n",
      "Integration complete...\n",
      "Tm 11 complete!\n",
      "Staring Tm 12: [(1, 2), (1, 4), (2, 0), (4, 3)]\n",
      "Starting segment 1...\n",
      " segment | cost | snv | cna\n",
      "|1 | 631.3644632666051 | 631.3644632666051 | 0 |\n",
      "Segment 1 complete!\n",
      "All specified segment tree inference complete!\n",
      "Starting integration...\n",
      "Starting integration for 1 segments...\n",
      "Tree list ordering:\n",
      "[0]\n",
      "0: {1}\n",
      "Execution time of integrate: 0.00022820800040790346 seconds\n",
      "Integration complete...\n",
      "Tm 12 complete!\n",
      "Staring Tm 13: [(1, 2), (1, 4), (3, 0), (4, 3)]\n",
      "Starting segment 1...\n",
      " segment | cost | snv | cna\n",
      "|1 | 635.5392149457037 | 635.5392149457037 | 0 |\n",
      "Segment 1 complete!\n",
      "All specified segment tree inference complete!\n",
      "Starting integration...\n",
      "Starting integration for 1 segments...\n",
      "Tree list ordering:\n",
      "[0]\n",
      "0: {1}\n",
      "Execution time of integrate: 0.0002179170000999875 seconds\n",
      "Integration complete...\n",
      "Tm 13 complete!\n",
      "Staring Tm 14: [(1, 2), (1, 4), (2, 3), (4, 0)]\n",
      "Starting segment 1...\n",
      " segment | cost | snv | cna\n",
      "|1 | 630.7839518960402 | 630.7839518960402 | 0 |\n",
      "Segment 1 complete!\n",
      "All specified segment tree inference complete!\n",
      "Starting integration...\n",
      "Starting integration for 1 segments...\n",
      "Tree list ordering:\n",
      "[0]\n",
      "0: {1}\n",
      "Execution time of integrate: 0.0001602080001248396 seconds\n",
      "Integration complete...\n",
      "Tm 14 complete!\n",
      "Best mutation cluster trees:\n",
      "0: [(1, 0), (1, 2), (1, 3), (1, 4)]\n",
      "10: [(1, 0), (1, 2), (1, 4), (4, 3)]\n",
      "1: [(1, 2), (1, 3), (1, 4), (2, 0)]\n",
      "8: [(1, 0), (1, 2), (1, 4), (2, 3)]\n",
      "7: [(1, 2), (1, 3), (1, 4), (4, 0)]\n",
      "11: [(1, 2), (1, 4), (2, 3), (3, 0)]\n",
      "14: [(1, 2), (1, 4), (2, 3), (4, 0)]\n",
      "6: [(1, 3), (1, 4), (3, 0), (4, 2)]\n",
      "12: [(1, 2), (1, 4), (2, 0), (4, 3)]\n",
      "2: [(1, 0), (1, 3), (1, 4), (4, 2)]\n",
      "4: [(1, 2), (1, 3), (1, 4), (3, 0)]\n",
      "3: [(1, 3), (1, 4), (2, 0), (4, 2)]\n",
      "13: [(1, 2), (1, 4), (3, 0), (4, 3)]\n",
      "5: [(1, 0), (1, 4), (2, 3), (4, 2)]\n",
      "9: [(1, 4), (2, 3), (3, 0), (4, 2)]\n",
      "Best trees after initial integration \n",
      "\n",
      "Watering the fields.... \n",
      "\n",
      "Harvesting....\n",
      "Execution time of fit: 406.7311019580002 seconds\n"
     ]
    }
   ],
   "source": [
    "best_trees = ph.fit(dat, lamb=1000, segments=[1])"
   ]
  },
  {
   "cell_type": "code",
   "execution_count": 21,
   "metadata": {},
   "outputs": [
    {
     "name": "stdout",
     "output_type": "stream",
     "text": [
      "5\n"
     ]
    }
   ],
   "source": [
    "print(len(best_trees))"
   ]
  },
  {
   "cell_type": "code",
   "execution_count": 22,
   "metadata": {},
   "outputs": [],
   "source": [
    "for i,solution in enumerate(best_trees):\n",
    "    solution.png(f\"example/tree{i}.png\")"
   ]
  }
 ],
 "metadata": {
  "kernelspec": {
   "display_name": "Python 3",
   "language": "python",
   "name": "python3"
  },
  "language_info": {
   "codemirror_mode": {
    "name": "ipython",
    "version": 3
   },
   "file_extension": ".py",
   "mimetype": "text/x-python",
   "name": "python",
   "nbconvert_exporter": "python",
   "pygments_lexer": "ipython3",
   "version": "3.9.20"
  }
 },
 "nbformat": 4,
 "nbformat_minor": 2
}
